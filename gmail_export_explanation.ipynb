{
 "cells": [
  {
   "cell_type": "code",
   "execution_count": null,
   "metadata": {
    "collapsed": true
   },
   "outputs": [],
   "source": [
    "#Use this article to export data from gmail and load it in\n",
    "#https://jellis18.github.io/post/2018-01-17-mail-analysis/"
   ]
  },
  {
   "cell_type": "code",
   "execution_count": null,
   "metadata": {
    "collapsed": true
   },
   "outputs": [],
   "source": [
    "#You can download your gmail data here:\n",
    "#https://takeout.google.com/settings/takeout"
   ]
  },
  {
   "cell_type": "code",
   "execution_count": 37,
   "metadata": {},
   "outputs": [],
   "source": [
    "%matplotlib inline\n",
    "\n",
    "import mailbox\n",
    "import os\n",
    "import csv\n",
    "import pandas as pd\n",
    "import datetime as dt\n",
    "import numpy as np\n",
    "import seaborn as sns\n",
    "import matplotlib.pyplot as plt"
   ]
  },
  {
   "cell_type": "code",
   "execution_count": 2,
   "metadata": {},
   "outputs": [
    {
     "data": {
      "text/plain": [
       "\"C:\\\\Users\\\\Divya Parmar's PC\\\\Documents\""
      ]
     },
     "execution_count": 2,
     "metadata": {},
     "output_type": "execute_result"
    }
   ],
   "source": [
    "os.getcwd()"
   ]
  },
  {
   "cell_type": "code",
   "execution_count": 3,
   "metadata": {
    "collapsed": true
   },
   "outputs": [],
   "source": [
    "mbox_file = \"C:\\\\Users\\\\Divya Parmar's PC\\\\Documents\\\\takeout-20190726T213855Z-001\\\\Takeout\\\\Mail\\\\Tracking-Master-PMO-Tracking.mbox\""
   ]
  },
  {
   "cell_type": "code",
   "execution_count": 4,
   "metadata": {
    "collapsed": true
   },
   "outputs": [],
   "source": [
    "mbox = mailbox.mbox(mbox_file)"
   ]
  },
  {
   "cell_type": "code",
   "execution_count": 5,
   "metadata": {},
   "outputs": [
    {
     "data": {
      "text/plain": [
       "['X-GM-THRID',\n",
       " 'X-Gmail-Labels',\n",
       " 'Return-Path',\n",
       " 'Received',\n",
       " 'From',\n",
       " 'Content-Type',\n",
       " 'Content-Transfer-Encoding',\n",
       " 'Mime-Version',\n",
       " 'Date',\n",
       " 'Subject',\n",
       " 'Message-Id',\n",
       " 'To',\n",
       " 'X-Mailer']"
      ]
     },
     "execution_count": 5,
     "metadata": {},
     "output_type": "execute_result"
    }
   ],
   "source": [
    "mbox[0].keys()"
   ]
  },
  {
   "cell_type": "code",
   "execution_count": 6,
   "metadata": {
    "collapsed": true
   },
   "outputs": [],
   "source": [
    "with open(\"mbox.csv\", \"w\") as outfile:\n",
    "    writer = csv.writer(outfile)\n",
    "    for message in mbox:\n",
    "        writer.writerow([message['subject'], message['from'], message['date'], message['to'],\n",
    "                         message['X-Gmail-Labels'], message['X-GM-THRID']])\n",
    "        "
   ]
  },
  {
   "cell_type": "code",
   "execution_count": 7,
   "metadata": {
    "collapsed": true
   },
   "outputs": [],
   "source": [
    "df = pd.read_csv('mbox.csv', names=['subject', 'from', 'date', 'to', 'label', 'thread'])\n",
    "df['date'] = df['date'].apply(lambda x: pd.to_datetime(x, errors='coerce', utc=True))"
   ]
  },
  {
   "cell_type": "code",
   "execution_count": 8,
   "metadata": {},
   "outputs": [
    {
     "data": {
      "text/html": [
       "<div>\n",
       "<style>\n",
       "    .dataframe thead tr:only-child th {\n",
       "        text-align: right;\n",
       "    }\n",
       "\n",
       "    .dataframe thead th {\n",
       "        text-align: left;\n",
       "    }\n",
       "\n",
       "    .dataframe tbody tr th {\n",
       "        vertical-align: top;\n",
       "    }\n",
       "</style>\n",
       "<table border=\"1\" class=\"dataframe\">\n",
       "  <thead>\n",
       "    <tr style=\"text-align: right;\">\n",
       "      <th></th>\n",
       "      <th>subject</th>\n",
       "      <th>from</th>\n",
       "      <th>date</th>\n",
       "      <th>to</th>\n",
       "      <th>label</th>\n",
       "      <th>thread</th>\n",
       "    </tr>\n",
       "  </thead>\n",
       "  <tbody>\n",
       "    <tr>\n",
       "      <th>0</th>\n",
       "      <td>PMO</td>\n",
       "      <td>Divya Parmar &lt;parmar.d@gmail.com&gt;</td>\n",
       "      <td>2019-01-27 09:37:22+00:00</td>\n",
       "      <td>parmar.d@gmail.com</td>\n",
       "      <td>Archived,Sent,Important,Tracking Master/PMO Tr...</td>\n",
       "      <td>1623805754805421128</td>\n",
       "    </tr>\n",
       "    <tr>\n",
       "      <th>1</th>\n",
       "      <td>PMO</td>\n",
       "      <td>Divya Parmar &lt;parmar.d@gmail.com&gt;</td>\n",
       "      <td>2018-09-12 14:50:34+00:00</td>\n",
       "      <td>Divya Parmar &lt;parmar.d@gmail.com&gt;</td>\n",
       "      <td>Archived,Sent,Important,Tracking Master/PMO Tr...</td>\n",
       "      <td>1611413675421364705</td>\n",
       "    </tr>\n",
       "    <tr>\n",
       "      <th>2</th>\n",
       "      <td>PMO</td>\n",
       "      <td>Divya Parmar &lt;parmar.d@gmail.com&gt;</td>\n",
       "      <td>2019-05-23 23:10:16+00:00</td>\n",
       "      <td>parmar.d@gmail.com</td>\n",
       "      <td>Archived,Sent,Important,Tracking Master/PMO Tr...</td>\n",
       "      <td>1634366146047306146</td>\n",
       "    </tr>\n",
       "    <tr>\n",
       "      <th>3</th>\n",
       "      <td>PMO</td>\n",
       "      <td>Divya Parmar &lt;parmar.d@gmail.com&gt;</td>\n",
       "      <td>2018-12-24 22:26:56+00:00</td>\n",
       "      <td>Divya Parmar &lt;parmar.d@gmail.com&gt;</td>\n",
       "      <td>Archived,Sent,Important,Tracking Master/PMO Tr...</td>\n",
       "      <td>1620773816148388176</td>\n",
       "    </tr>\n",
       "    <tr>\n",
       "      <th>4</th>\n",
       "      <td>PMO</td>\n",
       "      <td>Divya Parmar &lt;parmar.d@gmail.com&gt;</td>\n",
       "      <td>2018-06-02 19:08:10+00:00</td>\n",
       "      <td>parmar.d@gmail.com</td>\n",
       "      <td>Archived,Sent,Important,Tracking Master/PMO Tr...</td>\n",
       "      <td>1602188991677405761</td>\n",
       "    </tr>\n",
       "  </tbody>\n",
       "</table>\n",
       "</div>"
      ],
      "text/plain": [
       "  subject                               from                      date  \\\n",
       "0     PMO  Divya Parmar <parmar.d@gmail.com> 2019-01-27 09:37:22+00:00   \n",
       "1     PMO  Divya Parmar <parmar.d@gmail.com> 2018-09-12 14:50:34+00:00   \n",
       "2     PMO  Divya Parmar <parmar.d@gmail.com> 2019-05-23 23:10:16+00:00   \n",
       "3     PMO  Divya Parmar <parmar.d@gmail.com> 2018-12-24 22:26:56+00:00   \n",
       "4     PMO  Divya Parmar <parmar.d@gmail.com> 2018-06-02 19:08:10+00:00   \n",
       "\n",
       "                                  to  \\\n",
       "0                 parmar.d@gmail.com   \n",
       "1  Divya Parmar <parmar.d@gmail.com>   \n",
       "2                 parmar.d@gmail.com   \n",
       "3  Divya Parmar <parmar.d@gmail.com>   \n",
       "4                 parmar.d@gmail.com   \n",
       "\n",
       "                                               label               thread  \n",
       "0  Archived,Sent,Important,Tracking Master/PMO Tr...  1623805754805421128  \n",
       "1  Archived,Sent,Important,Tracking Master/PMO Tr...  1611413675421364705  \n",
       "2  Archived,Sent,Important,Tracking Master/PMO Tr...  1634366146047306146  \n",
       "3  Archived,Sent,Important,Tracking Master/PMO Tr...  1620773816148388176  \n",
       "4  Archived,Sent,Important,Tracking Master/PMO Tr...  1602188991677405761  "
      ]
     },
     "execution_count": 8,
     "metadata": {},
     "output_type": "execute_result"
    }
   ],
   "source": [
    "df.head()"
   ]
  },
  {
   "cell_type": "code",
   "execution_count": 9,
   "metadata": {},
   "outputs": [
    {
     "data": {
      "text/plain": [
       "550"
      ]
     },
     "execution_count": 9,
     "metadata": {},
     "output_type": "execute_result"
    }
   ],
   "source": [
    "len(df)"
   ]
  },
  {
   "cell_type": "code",
   "execution_count": 10,
   "metadata": {},
   "outputs": [
    {
     "data": {
      "text/plain": [
       "subject                 object\n",
       "from                    object\n",
       "date       datetime64[ns, UTC]\n",
       "to                      object\n",
       "label                   object\n",
       "thread                   int64\n",
       "dtype: object"
      ]
     },
     "execution_count": 10,
     "metadata": {},
     "output_type": "execute_result"
    }
   ],
   "source": [
    "df.dtypes"
   ]
  },
  {
   "cell_type": "code",
   "execution_count": 11,
   "metadata": {
    "collapsed": true
   },
   "outputs": [],
   "source": [
    "#convert timezone from utc to pst/pdt\n",
    "df['timestamp'] = pd.to_datetime(df['date'], unit='ms').dt.tz_convert('US/Pacific')"
   ]
  },
  {
   "cell_type": "code",
   "execution_count": 12,
   "metadata": {
    "collapsed": true
   },
   "outputs": [],
   "source": [
    "#normalize timestamp to a date\n",
    "df['date'] =  df['timestamp'].dt.normalize()"
   ]
  },
  {
   "cell_type": "code",
   "execution_count": 13,
   "metadata": {
    "collapsed": true
   },
   "outputs": [],
   "source": [
    "#get hour of day\n",
    "df['hour_pst'] = df['timestamp'].apply(lambda x: x.hour)"
   ]
  },
  {
   "cell_type": "code",
   "execution_count": 14,
   "metadata": {
    "collapsed": true
   },
   "outputs": [],
   "source": [
    "#create flag for weekend or weekday\n",
    "df['day_of_week'] = df['timestamp'].apply(lambda x: x.weekday)"
   ]
  },
  {
   "cell_type": "code",
   "execution_count": 15,
   "metadata": {
    "collapsed": true
   },
   "outputs": [],
   "source": [
    "#create flag for weekend or weekday\n",
    "df['weekend_flag'] = df['timestamp'].apply(lambda x: 'weekday' if x.weekday() <= 4 else 'weekend')"
   ]
  },
  {
   "cell_type": "code",
   "execution_count": 21,
   "metadata": {},
   "outputs": [
    {
     "data": {
      "text/plain": [
       "datetime.datetime(2018, 5, 3, 0, 0)"
      ]
     },
     "execution_count": 21,
     "metadata": {},
     "output_type": "execute_result"
    }
   ],
   "source": [
    "# column of who I was working for\n",
    "#df['company_flag']\n",
    "#dt.datetime(2016, 3, 30)\n",
    "#dt.datetime(2017, 9, 30)\n",
    "#dt.datetime(2018, 6, 15)\n",
    "#dt.datetime(2018, 8, 27)\n",
    "#dt.datetime(2019, 5, 1)"
   ]
  },
  {
   "cell_type": "code",
   "execution_count": 17,
   "metadata": {},
   "outputs": [
    {
     "data": {
      "text/html": [
       "<div>\n",
       "<style>\n",
       "    .dataframe thead tr:only-child th {\n",
       "        text-align: right;\n",
       "    }\n",
       "\n",
       "    .dataframe thead th {\n",
       "        text-align: left;\n",
       "    }\n",
       "\n",
       "    .dataframe tbody tr th {\n",
       "        vertical-align: top;\n",
       "    }\n",
       "</style>\n",
       "<table border=\"1\" class=\"dataframe\">\n",
       "  <thead>\n",
       "    <tr style=\"text-align: right;\">\n",
       "      <th></th>\n",
       "      <th>subject</th>\n",
       "      <th>from</th>\n",
       "      <th>date</th>\n",
       "      <th>to</th>\n",
       "      <th>label</th>\n",
       "      <th>thread</th>\n",
       "      <th>timestamp</th>\n",
       "      <th>hour_pst</th>\n",
       "      <th>day_of_week</th>\n",
       "      <th>weekend_flag</th>\n",
       "    </tr>\n",
       "  </thead>\n",
       "  <tbody>\n",
       "    <tr>\n",
       "      <th>0</th>\n",
       "      <td>PMO</td>\n",
       "      <td>Divya Parmar &lt;parmar.d@gmail.com&gt;</td>\n",
       "      <td>2019-01-27 00:00:00-08:00</td>\n",
       "      <td>parmar.d@gmail.com</td>\n",
       "      <td>Archived,Sent,Important,Tracking Master/PMO Tr...</td>\n",
       "      <td>1623805754805421128</td>\n",
       "      <td>2019-01-27 01:37:22-08:00</td>\n",
       "      <td>1</td>\n",
       "      <td>6</td>\n",
       "      <td>weekend</td>\n",
       "    </tr>\n",
       "    <tr>\n",
       "      <th>1</th>\n",
       "      <td>PMO</td>\n",
       "      <td>Divya Parmar &lt;parmar.d@gmail.com&gt;</td>\n",
       "      <td>2018-09-12 00:00:00-07:00</td>\n",
       "      <td>Divya Parmar &lt;parmar.d@gmail.com&gt;</td>\n",
       "      <td>Archived,Sent,Important,Tracking Master/PMO Tr...</td>\n",
       "      <td>1611413675421364705</td>\n",
       "      <td>2018-09-12 07:50:34-07:00</td>\n",
       "      <td>7</td>\n",
       "      <td>2</td>\n",
       "      <td>weekday</td>\n",
       "    </tr>\n",
       "    <tr>\n",
       "      <th>2</th>\n",
       "      <td>PMO</td>\n",
       "      <td>Divya Parmar &lt;parmar.d@gmail.com&gt;</td>\n",
       "      <td>2019-05-23 00:00:00-07:00</td>\n",
       "      <td>parmar.d@gmail.com</td>\n",
       "      <td>Archived,Sent,Important,Tracking Master/PMO Tr...</td>\n",
       "      <td>1634366146047306146</td>\n",
       "      <td>2019-05-23 16:10:16-07:00</td>\n",
       "      <td>16</td>\n",
       "      <td>3</td>\n",
       "      <td>weekday</td>\n",
       "    </tr>\n",
       "    <tr>\n",
       "      <th>3</th>\n",
       "      <td>PMO</td>\n",
       "      <td>Divya Parmar &lt;parmar.d@gmail.com&gt;</td>\n",
       "      <td>2018-12-24 00:00:00-08:00</td>\n",
       "      <td>Divya Parmar &lt;parmar.d@gmail.com&gt;</td>\n",
       "      <td>Archived,Sent,Important,Tracking Master/PMO Tr...</td>\n",
       "      <td>1620773816148388176</td>\n",
       "      <td>2018-12-24 14:26:56-08:00</td>\n",
       "      <td>14</td>\n",
       "      <td>0</td>\n",
       "      <td>weekday</td>\n",
       "    </tr>\n",
       "    <tr>\n",
       "      <th>4</th>\n",
       "      <td>PMO</td>\n",
       "      <td>Divya Parmar &lt;parmar.d@gmail.com&gt;</td>\n",
       "      <td>2018-06-02 00:00:00-07:00</td>\n",
       "      <td>parmar.d@gmail.com</td>\n",
       "      <td>Archived,Sent,Important,Tracking Master/PMO Tr...</td>\n",
       "      <td>1602188991677405761</td>\n",
       "      <td>2018-06-02 12:08:10-07:00</td>\n",
       "      <td>12</td>\n",
       "      <td>5</td>\n",
       "      <td>weekend</td>\n",
       "    </tr>\n",
       "  </tbody>\n",
       "</table>\n",
       "</div>"
      ],
      "text/plain": [
       "  subject                               from                      date  \\\n",
       "0     PMO  Divya Parmar <parmar.d@gmail.com> 2019-01-27 00:00:00-08:00   \n",
       "1     PMO  Divya Parmar <parmar.d@gmail.com> 2018-09-12 00:00:00-07:00   \n",
       "2     PMO  Divya Parmar <parmar.d@gmail.com> 2019-05-23 00:00:00-07:00   \n",
       "3     PMO  Divya Parmar <parmar.d@gmail.com> 2018-12-24 00:00:00-08:00   \n",
       "4     PMO  Divya Parmar <parmar.d@gmail.com> 2018-06-02 00:00:00-07:00   \n",
       "\n",
       "                                  to  \\\n",
       "0                 parmar.d@gmail.com   \n",
       "1  Divya Parmar <parmar.d@gmail.com>   \n",
       "2                 parmar.d@gmail.com   \n",
       "3  Divya Parmar <parmar.d@gmail.com>   \n",
       "4                 parmar.d@gmail.com   \n",
       "\n",
       "                                               label               thread  \\\n",
       "0  Archived,Sent,Important,Tracking Master/PMO Tr...  1623805754805421128   \n",
       "1  Archived,Sent,Important,Tracking Master/PMO Tr...  1611413675421364705   \n",
       "2  Archived,Sent,Important,Tracking Master/PMO Tr...  1634366146047306146   \n",
       "3  Archived,Sent,Important,Tracking Master/PMO Tr...  1620773816148388176   \n",
       "4  Archived,Sent,Important,Tracking Master/PMO Tr...  1602188991677405761   \n",
       "\n",
       "                  timestamp  hour_pst  day_of_week weekend_flag  \n",
       "0 2019-01-27 01:37:22-08:00         1            6      weekend  \n",
       "1 2018-09-12 07:50:34-07:00         7            2      weekday  \n",
       "2 2019-05-23 16:10:16-07:00        16            3      weekday  \n",
       "3 2018-12-24 14:26:56-08:00        14            0      weekday  \n",
       "4 2018-06-02 12:08:10-07:00        12            5      weekend  "
      ]
     },
     "execution_count": 17,
     "metadata": {},
     "output_type": "execute_result"
    }
   ],
   "source": [
    "df.head()"
   ]
  },
  {
   "cell_type": "code",
   "execution_count": 23,
   "metadata": {},
   "outputs": [
    {
     "data": {
      "text/plain": [
       "subject                             object\n",
       "from                                object\n",
       "date            datetime64[ns, US/Pacific]\n",
       "to                                  object\n",
       "label                               object\n",
       "thread                               int64\n",
       "timestamp       datetime64[ns, US/Pacific]\n",
       "hour_pst                             int64\n",
       "day_of_week                          int64\n",
       "weekend_flag                        object\n",
       "dtype: object"
      ]
     },
     "execution_count": 23,
     "metadata": {},
     "output_type": "execute_result"
    }
   ],
   "source": [
    "df.dtypes"
   ]
  },
  {
   "cell_type": "code",
   "execution_count": 56,
   "metadata": {},
   "outputs": [],
   "source": [
    "df_anki_weekday = df[(df['timestamp'] >= dt.datetime(2018, 8, 27)) & (df['timestamp'] <= dt.datetime(2019, 5, 1))& (df['weekend_flag'] == 'weekday')]\n",
    "df_anki_weekend = df[(df['timestamp'] >= dt.datetime(2018, 8, 27)) & (df['timestamp'] <= dt.datetime(2019, 5, 1))& (df['weekend_flag'] == 'weekend')]\n",
    "df_anki_all = df[(df['timestamp'] >= dt.datetime(2018, 8, 27)) & (df['timestamp'] <= dt.datetime(2019, 5, 1))]"
   ]
  },
  {
   "cell_type": "code",
   "execution_count": 57,
   "metadata": {
    "collapsed": true
   },
   "outputs": [],
   "source": [
    "df_weekend = df[(df['weekend_flag'] == 'weekend')]\n",
    "df_weekday = df[(df['weekend_flag'] == 'weekday')]"
   ]
  },
  {
   "cell_type": "code",
   "execution_count": 77,
   "metadata": {},
   "outputs": [
    {
     "data": {
      "text/plain": [
       "array([[<matplotlib.axes._subplots.AxesSubplot object at 0x000000000FC13358>]], dtype=object)"
      ]
     },
     "execution_count": 77,
     "metadata": {},
     "output_type": "execute_result"
    },
    {
     "data": {
      "image/png": "[encoded data removed]",
      "text/plain": [
       "<matplotlib.figure.Figure at 0x107820b8>"
      ]
     },
     "metadata": {},
     "output_type": "display_data"
    }
   ],
   "source": [
    "#histogram of pmo by time of day PST\n",
    "df_weekend.hist(column='hour_pst')"
   ]
  },
  {
   "cell_type": "code",
   "execution_count": 73,
   "metadata": {},
   "outputs": [],
   "source": [
    "df_pivoted = df_anki_all.pivot_table(values='timestamp', index='hour_pst', columns='day_of_week', \n",
    "                         aggfunc=pd.Series.nunique)"
   ]
  },
  {
   "cell_type": "code",
   "execution_count": 74,
   "metadata": {},
   "outputs": [
    {
     "data": {
      "text/html": [
       "<div>\n",
       "<style>\n",
       "    .dataframe thead tr:only-child th {\n",
       "        text-align: right;\n",
       "    }\n",
       "\n",
       "    .dataframe thead th {\n",
       "        text-align: left;\n",
       "    }\n",
       "\n",
       "    .dataframe tbody tr th {\n",
       "        vertical-align: top;\n",
       "    }\n",
       "</style>\n",
       "<table border=\"1\" class=\"dataframe\">\n",
       "  <thead>\n",
       "    <tr style=\"text-align: right;\">\n",
       "      <th>day_of_week</th>\n",
       "      <th>0</th>\n",
       "      <th>1</th>\n",
       "      <th>2</th>\n",
       "      <th>3</th>\n",
       "      <th>4</th>\n",
       "      <th>5</th>\n",
       "      <th>6</th>\n",
       "    </tr>\n",
       "    <tr>\n",
       "      <th>hour_pst</th>\n",
       "      <th></th>\n",
       "      <th></th>\n",
       "      <th></th>\n",
       "      <th></th>\n",
       "      <th></th>\n",
       "      <th></th>\n",
       "      <th></th>\n",
       "    </tr>\n",
       "  </thead>\n",
       "  <tbody>\n",
       "    <tr>\n",
       "      <th>0</th>\n",
       "      <td>NaN</td>\n",
       "      <td>1.0</td>\n",
       "      <td>1.0</td>\n",
       "      <td>NaN</td>\n",
       "      <td>NaN</td>\n",
       "      <td>2.0</td>\n",
       "      <td>NaN</td>\n",
       "    </tr>\n",
       "    <tr>\n",
       "      <th>1</th>\n",
       "      <td>NaN</td>\n",
       "      <td>NaN</td>\n",
       "      <td>NaN</td>\n",
       "      <td>NaN</td>\n",
       "      <td>NaN</td>\n",
       "      <td>NaN</td>\n",
       "      <td>1.0</td>\n",
       "    </tr>\n",
       "    <tr>\n",
       "      <th>7</th>\n",
       "      <td>NaN</td>\n",
       "      <td>3.0</td>\n",
       "      <td>1.0</td>\n",
       "      <td>NaN</td>\n",
       "      <td>1.0</td>\n",
       "      <td>NaN</td>\n",
       "      <td>NaN</td>\n",
       "    </tr>\n",
       "    <tr>\n",
       "      <th>8</th>\n",
       "      <td>3.0</td>\n",
       "      <td>5.0</td>\n",
       "      <td>1.0</td>\n",
       "      <td>5.0</td>\n",
       "      <td>6.0</td>\n",
       "      <td>2.0</td>\n",
       "      <td>NaN</td>\n",
       "    </tr>\n",
       "    <tr>\n",
       "      <th>9</th>\n",
       "      <td>NaN</td>\n",
       "      <td>4.0</td>\n",
       "      <td>1.0</td>\n",
       "      <td>NaN</td>\n",
       "      <td>2.0</td>\n",
       "      <td>2.0</td>\n",
       "      <td>NaN</td>\n",
       "    </tr>\n",
       "    <tr>\n",
       "      <th>10</th>\n",
       "      <td>NaN</td>\n",
       "      <td>NaN</td>\n",
       "      <td>NaN</td>\n",
       "      <td>2.0</td>\n",
       "      <td>NaN</td>\n",
       "      <td>1.0</td>\n",
       "      <td>2.0</td>\n",
       "    </tr>\n",
       "    <tr>\n",
       "      <th>11</th>\n",
       "      <td>NaN</td>\n",
       "      <td>NaN</td>\n",
       "      <td>NaN</td>\n",
       "      <td>NaN</td>\n",
       "      <td>NaN</td>\n",
       "      <td>NaN</td>\n",
       "      <td>3.0</td>\n",
       "    </tr>\n",
       "    <tr>\n",
       "      <th>12</th>\n",
       "      <td>NaN</td>\n",
       "      <td>NaN</td>\n",
       "      <td>NaN</td>\n",
       "      <td>NaN</td>\n",
       "      <td>1.0</td>\n",
       "      <td>NaN</td>\n",
       "      <td>1.0</td>\n",
       "    </tr>\n",
       "    <tr>\n",
       "      <th>13</th>\n",
       "      <td>NaN</td>\n",
       "      <td>NaN</td>\n",
       "      <td>NaN</td>\n",
       "      <td>NaN</td>\n",
       "      <td>NaN</td>\n",
       "      <td>1.0</td>\n",
       "      <td>NaN</td>\n",
       "    </tr>\n",
       "    <tr>\n",
       "      <th>14</th>\n",
       "      <td>2.0</td>\n",
       "      <td>1.0</td>\n",
       "      <td>NaN</td>\n",
       "      <td>NaN</td>\n",
       "      <td>NaN</td>\n",
       "      <td>1.0</td>\n",
       "      <td>2.0</td>\n",
       "    </tr>\n",
       "    <tr>\n",
       "      <th>15</th>\n",
       "      <td>NaN</td>\n",
       "      <td>NaN</td>\n",
       "      <td>NaN</td>\n",
       "      <td>NaN</td>\n",
       "      <td>NaN</td>\n",
       "      <td>NaN</td>\n",
       "      <td>1.0</td>\n",
       "    </tr>\n",
       "    <tr>\n",
       "      <th>16</th>\n",
       "      <td>NaN</td>\n",
       "      <td>NaN</td>\n",
       "      <td>NaN</td>\n",
       "      <td>NaN</td>\n",
       "      <td>NaN</td>\n",
       "      <td>1.0</td>\n",
       "      <td>NaN</td>\n",
       "    </tr>\n",
       "    <tr>\n",
       "      <th>17</th>\n",
       "      <td>1.0</td>\n",
       "      <td>NaN</td>\n",
       "      <td>NaN</td>\n",
       "      <td>NaN</td>\n",
       "      <td>NaN</td>\n",
       "      <td>NaN</td>\n",
       "      <td>1.0</td>\n",
       "    </tr>\n",
       "    <tr>\n",
       "      <th>21</th>\n",
       "      <td>NaN</td>\n",
       "      <td>1.0</td>\n",
       "      <td>NaN</td>\n",
       "      <td>NaN</td>\n",
       "      <td>NaN</td>\n",
       "      <td>NaN</td>\n",
       "      <td>NaN</td>\n",
       "    </tr>\n",
       "    <tr>\n",
       "      <th>22</th>\n",
       "      <td>NaN</td>\n",
       "      <td>1.0</td>\n",
       "      <td>2.0</td>\n",
       "      <td>NaN</td>\n",
       "      <td>NaN</td>\n",
       "      <td>NaN</td>\n",
       "      <td>NaN</td>\n",
       "    </tr>\n",
       "    <tr>\n",
       "      <th>23</th>\n",
       "      <td>NaN</td>\n",
       "      <td>2.0</td>\n",
       "      <td>1.0</td>\n",
       "      <td>2.0</td>\n",
       "      <td>NaN</td>\n",
       "      <td>NaN</td>\n",
       "      <td>NaN</td>\n",
       "    </tr>\n",
       "  </tbody>\n",
       "</table>\n",
       "</div>"
      ],
      "text/plain": [
       "day_of_week    0    1    2    3    4    5    6\n",
       "hour_pst                                      \n",
       "0            NaN  1.0  1.0  NaN  NaN  2.0  NaN\n",
       "1            NaN  NaN  NaN  NaN  NaN  NaN  1.0\n",
       "7            NaN  3.0  1.0  NaN  1.0  NaN  NaN\n",
       "8            3.0  5.0  1.0  5.0  6.0  2.0  NaN\n",
       "9            NaN  4.0  1.0  NaN  2.0  2.0  NaN\n",
       "10           NaN  NaN  NaN  2.0  NaN  1.0  2.0\n",
       "11           NaN  NaN  NaN  NaN  NaN  NaN  3.0\n",
       "12           NaN  NaN  NaN  NaN  1.0  NaN  1.0\n",
       "13           NaN  NaN  NaN  NaN  NaN  1.0  NaN\n",
       "14           2.0  1.0  NaN  NaN  NaN  1.0  2.0\n",
       "15           NaN  NaN  NaN  NaN  NaN  NaN  1.0\n",
       "16           NaN  NaN  NaN  NaN  NaN  1.0  NaN\n",
       "17           1.0  NaN  NaN  NaN  NaN  NaN  1.0\n",
       "21           NaN  1.0  NaN  NaN  NaN  NaN  NaN\n",
       "22           NaN  1.0  2.0  NaN  NaN  NaN  NaN\n",
       "23           NaN  2.0  1.0  2.0  NaN  NaN  NaN"
      ]
     },
     "execution_count": 74,
     "metadata": {},
     "output_type": "execute_result"
    }
   ],
   "source": [
    "df_pivoted"
   ]
  },
  {
   "cell_type": "code",
   "execution_count": 78,
   "metadata": {},
   "outputs": [
    {
     "data": {
      "text/plain": [
       "day_of_week\n",
       "0     6.0\n",
       "1    18.0\n",
       "2     7.0\n",
       "3     9.0\n",
       "4    10.0\n",
       "5    10.0\n",
       "6    11.0\n",
       "dtype: float64"
      ]
     },
     "execution_count": 78,
     "metadata": {},
     "output_type": "execute_result"
    }
   ],
   "source": [
    "df_pivoted.sum()"
   ]
  },
  {
   "cell_type": "code",
   "execution_count": 75,
   "metadata": {},
   "outputs": [
    {
     "data": {
      "text/plain": [
       "<matplotlib.axes._subplots.AxesSubplot at 0x100895c0>"
      ]
     },
     "execution_count": 75,
     "metadata": {},
     "output_type": "execute_result"
    },
    {
     "data": {
      "image/png": "[encoded data removed]",
      "text/plain": [
       "<matplotlib.figure.Figure at 0xfc04908>"
      ]
     },
     "metadata": {},
     "output_type": "display_data"
    }
   ],
   "source": [
    "#seaborn heatmap of pmo by hour of day and day of week when employed\n",
    "sns.heatmap(df_pivoted)"
   ]
  },
  {
   "cell_type": "code",
   "execution_count": 80,
   "metadata": {},
   "outputs": [
    {
     "data": {
      "text/html": [
       "<div>\n",
       "<style>\n",
       "    .dataframe thead tr:only-child th {\n",
       "        text-align: right;\n",
       "    }\n",
       "\n",
       "    .dataframe thead th {\n",
       "        text-align: left;\n",
       "    }\n",
       "\n",
       "    .dataframe tbody tr th {\n",
       "        vertical-align: top;\n",
       "    }\n",
       "</style>\n",
       "<table border=\"1\" class=\"dataframe\">\n",
       "  <thead>\n",
       "    <tr style=\"text-align: right;\">\n",
       "      <th>day_of_week</th>\n",
       "      <th>0</th>\n",
       "      <th>1</th>\n",
       "      <th>2</th>\n",
       "      <th>3</th>\n",
       "      <th>4</th>\n",
       "      <th>5</th>\n",
       "      <th>6</th>\n",
       "    </tr>\n",
       "    <tr>\n",
       "      <th>hour_pst</th>\n",
       "      <th></th>\n",
       "      <th></th>\n",
       "      <th></th>\n",
       "      <th></th>\n",
       "      <th></th>\n",
       "      <th></th>\n",
       "      <th></th>\n",
       "    </tr>\n",
       "  </thead>\n",
       "  <tbody>\n",
       "    <tr>\n",
       "      <th>0</th>\n",
       "      <td>1.0</td>\n",
       "      <td>2.0</td>\n",
       "      <td>3.0</td>\n",
       "      <td>5.0</td>\n",
       "      <td>3.0</td>\n",
       "      <td>2.0</td>\n",
       "      <td>1.0</td>\n",
       "    </tr>\n",
       "    <tr>\n",
       "      <th>1</th>\n",
       "      <td>NaN</td>\n",
       "      <td>1.0</td>\n",
       "      <td>3.0</td>\n",
       "      <td>NaN</td>\n",
       "      <td>3.0</td>\n",
       "      <td>2.0</td>\n",
       "      <td>3.0</td>\n",
       "    </tr>\n",
       "    <tr>\n",
       "      <th>2</th>\n",
       "      <td>NaN</td>\n",
       "      <td>NaN</td>\n",
       "      <td>1.0</td>\n",
       "      <td>1.0</td>\n",
       "      <td>NaN</td>\n",
       "      <td>2.0</td>\n",
       "      <td>NaN</td>\n",
       "    </tr>\n",
       "    <tr>\n",
       "      <th>3</th>\n",
       "      <td>NaN</td>\n",
       "      <td>NaN</td>\n",
       "      <td>NaN</td>\n",
       "      <td>NaN</td>\n",
       "      <td>NaN</td>\n",
       "      <td>1.0</td>\n",
       "      <td>1.0</td>\n",
       "    </tr>\n",
       "    <tr>\n",
       "      <th>7</th>\n",
       "      <td>1.0</td>\n",
       "      <td>2.0</td>\n",
       "      <td>1.0</td>\n",
       "      <td>2.0</td>\n",
       "      <td>1.0</td>\n",
       "      <td>1.0</td>\n",
       "      <td>NaN</td>\n",
       "    </tr>\n",
       "    <tr>\n",
       "      <th>8</th>\n",
       "      <td>2.0</td>\n",
       "      <td>15.0</td>\n",
       "      <td>13.0</td>\n",
       "      <td>11.0</td>\n",
       "      <td>6.0</td>\n",
       "      <td>1.0</td>\n",
       "      <td>NaN</td>\n",
       "    </tr>\n",
       "    <tr>\n",
       "      <th>9</th>\n",
       "      <td>NaN</td>\n",
       "      <td>1.0</td>\n",
       "      <td>3.0</td>\n",
       "      <td>3.0</td>\n",
       "      <td>NaN</td>\n",
       "      <td>1.0</td>\n",
       "      <td>1.0</td>\n",
       "    </tr>\n",
       "    <tr>\n",
       "      <th>10</th>\n",
       "      <td>NaN</td>\n",
       "      <td>1.0</td>\n",
       "      <td>NaN</td>\n",
       "      <td>3.0</td>\n",
       "      <td>NaN</td>\n",
       "      <td>1.0</td>\n",
       "      <td>2.0</td>\n",
       "    </tr>\n",
       "    <tr>\n",
       "      <th>11</th>\n",
       "      <td>NaN</td>\n",
       "      <td>NaN</td>\n",
       "      <td>1.0</td>\n",
       "      <td>NaN</td>\n",
       "      <td>NaN</td>\n",
       "      <td>3.0</td>\n",
       "      <td>2.0</td>\n",
       "    </tr>\n",
       "    <tr>\n",
       "      <th>12</th>\n",
       "      <td>1.0</td>\n",
       "      <td>NaN</td>\n",
       "      <td>NaN</td>\n",
       "      <td>1.0</td>\n",
       "      <td>1.0</td>\n",
       "      <td>2.0</td>\n",
       "      <td>2.0</td>\n",
       "    </tr>\n",
       "    <tr>\n",
       "      <th>13</th>\n",
       "      <td>NaN</td>\n",
       "      <td>NaN</td>\n",
       "      <td>NaN</td>\n",
       "      <td>NaN</td>\n",
       "      <td>NaN</td>\n",
       "      <td>2.0</td>\n",
       "      <td>2.0</td>\n",
       "    </tr>\n",
       "    <tr>\n",
       "      <th>14</th>\n",
       "      <td>NaN</td>\n",
       "      <td>NaN</td>\n",
       "      <td>NaN</td>\n",
       "      <td>1.0</td>\n",
       "      <td>NaN</td>\n",
       "      <td>1.0</td>\n",
       "      <td>NaN</td>\n",
       "    </tr>\n",
       "    <tr>\n",
       "      <th>15</th>\n",
       "      <td>1.0</td>\n",
       "      <td>NaN</td>\n",
       "      <td>NaN</td>\n",
       "      <td>NaN</td>\n",
       "      <td>NaN</td>\n",
       "      <td>1.0</td>\n",
       "      <td>3.0</td>\n",
       "    </tr>\n",
       "    <tr>\n",
       "      <th>16</th>\n",
       "      <td>NaN</td>\n",
       "      <td>NaN</td>\n",
       "      <td>NaN</td>\n",
       "      <td>NaN</td>\n",
       "      <td>1.0</td>\n",
       "      <td>5.0</td>\n",
       "      <td>NaN</td>\n",
       "    </tr>\n",
       "    <tr>\n",
       "      <th>17</th>\n",
       "      <td>NaN</td>\n",
       "      <td>NaN</td>\n",
       "      <td>NaN</td>\n",
       "      <td>NaN</td>\n",
       "      <td>NaN</td>\n",
       "      <td>1.0</td>\n",
       "      <td>4.0</td>\n",
       "    </tr>\n",
       "    <tr>\n",
       "      <th>18</th>\n",
       "      <td>NaN</td>\n",
       "      <td>NaN</td>\n",
       "      <td>NaN</td>\n",
       "      <td>NaN</td>\n",
       "      <td>NaN</td>\n",
       "      <td>1.0</td>\n",
       "      <td>1.0</td>\n",
       "    </tr>\n",
       "    <tr>\n",
       "      <th>19</th>\n",
       "      <td>NaN</td>\n",
       "      <td>NaN</td>\n",
       "      <td>NaN</td>\n",
       "      <td>NaN</td>\n",
       "      <td>1.0</td>\n",
       "      <td>1.0</td>\n",
       "      <td>1.0</td>\n",
       "    </tr>\n",
       "    <tr>\n",
       "      <th>20</th>\n",
       "      <td>NaN</td>\n",
       "      <td>NaN</td>\n",
       "      <td>NaN</td>\n",
       "      <td>1.0</td>\n",
       "      <td>1.0</td>\n",
       "      <td>NaN</td>\n",
       "      <td>2.0</td>\n",
       "    </tr>\n",
       "    <tr>\n",
       "      <th>21</th>\n",
       "      <td>3.0</td>\n",
       "      <td>NaN</td>\n",
       "      <td>NaN</td>\n",
       "      <td>NaN</td>\n",
       "      <td>1.0</td>\n",
       "      <td>NaN</td>\n",
       "      <td>1.0</td>\n",
       "    </tr>\n",
       "    <tr>\n",
       "      <th>22</th>\n",
       "      <td>3.0</td>\n",
       "      <td>2.0</td>\n",
       "      <td>2.0</td>\n",
       "      <td>1.0</td>\n",
       "      <td>2.0</td>\n",
       "      <td>NaN</td>\n",
       "      <td>NaN</td>\n",
       "    </tr>\n",
       "    <tr>\n",
       "      <th>23</th>\n",
       "      <td>5.0</td>\n",
       "      <td>3.0</td>\n",
       "      <td>1.0</td>\n",
       "      <td>2.0</td>\n",
       "      <td>1.0</td>\n",
       "      <td>1.0</td>\n",
       "      <td>5.0</td>\n",
       "    </tr>\n",
       "  </tbody>\n",
       "</table>\n",
       "</div>"
      ],
      "text/plain": [
       "day_of_week    0     1     2     3    4    5    6\n",
       "hour_pst                                         \n",
       "0            1.0   2.0   3.0   5.0  3.0  2.0  1.0\n",
       "1            NaN   1.0   3.0   NaN  3.0  2.0  3.0\n",
       "2            NaN   NaN   1.0   1.0  NaN  2.0  NaN\n",
       "3            NaN   NaN   NaN   NaN  NaN  1.0  1.0\n",
       "7            1.0   2.0   1.0   2.0  1.0  1.0  NaN\n",
       "8            2.0  15.0  13.0  11.0  6.0  1.0  NaN\n",
       "9            NaN   1.0   3.0   3.0  NaN  1.0  1.0\n",
       "10           NaN   1.0   NaN   3.0  NaN  1.0  2.0\n",
       "11           NaN   NaN   1.0   NaN  NaN  3.0  2.0\n",
       "12           1.0   NaN   NaN   1.0  1.0  2.0  2.0\n",
       "13           NaN   NaN   NaN   NaN  NaN  2.0  2.0\n",
       "14           NaN   NaN   NaN   1.0  NaN  1.0  NaN\n",
       "15           1.0   NaN   NaN   NaN  NaN  1.0  3.0\n",
       "16           NaN   NaN   NaN   NaN  1.0  5.0  NaN\n",
       "17           NaN   NaN   NaN   NaN  NaN  1.0  4.0\n",
       "18           NaN   NaN   NaN   NaN  NaN  1.0  1.0\n",
       "19           NaN   NaN   NaN   NaN  1.0  1.0  1.0\n",
       "20           NaN   NaN   NaN   1.0  1.0  NaN  2.0\n",
       "21           3.0   NaN   NaN   NaN  1.0  NaN  1.0\n",
       "22           3.0   2.0   2.0   1.0  2.0  NaN  NaN\n",
       "23           5.0   3.0   1.0   2.0  1.0  1.0  5.0"
      ]
     },
     "execution_count": 80,
     "metadata": {},
     "output_type": "execute_result"
    }
   ],
   "source": [
    "df_kix_all = df[(df['timestamp'] >= dt.datetime(2016, 3, 30)) & (df['timestamp'] <= dt.datetime(2017, 9, 29))]\n",
    "df_pivoted_kix = df_kix_all.pivot_table(values='timestamp', index='hour_pst', columns='day_of_week', \n",
    "                         aggfunc=pd.Series.nunique)\n",
    "df_pivoted_kix"
   ]
  },
  {
   "cell_type": "code",
   "execution_count": 81,
   "metadata": {},
   "outputs": [
    {
     "data": {
      "text/plain": [
       "<matplotlib.axes._subplots.AxesSubplot at 0x10c1ab38>"
      ]
     },
     "execution_count": 81,
     "metadata": {},
     "output_type": "execute_result"
    },
    {
     "data": {
      "image/png": "[encoded data removed]",
      "text/plain": [
       "<matplotlib.figure.Figure at 0x10c25588>"
      ]
     },
     "metadata": {},
     "output_type": "display_data"
    }
   ],
   "source": [
    "sns.heatmap(df_pivoted_kix)"
   ]
  }
 ],
 "metadata": {
  "kernelspec": {
   "display_name": "Python 2",
   "language": "python",
   "name": "python2"
  },
  "language_info": {
   "codemirror_mode": {
    "name": "ipython",
    "version": 2
   },
   "file_extension": ".py",
   "mimetype": "text/x-python",
   "name": "python",
   "nbconvert_exporter": "python",
   "pygments_lexer": "ipython2",
   "version": "2.7.14"
  }
 },
 "nbformat": 4,
 "nbformat_minor": 2
}
